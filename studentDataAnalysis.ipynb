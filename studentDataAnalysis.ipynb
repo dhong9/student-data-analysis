{
 "cells": [
  {
   "cell_type": "markdown",
   "id": "4040a936-8b75-49d6-9cbf-7614f829bd1e",
   "metadata": {},
   "source": [
    "# Leveling The Playing Field\n",
    "\n",
    "## Overview\n",
    "We all know that student performances differ every year, but by how much? We explore student performance trends from each year. We discuss findings and make recommendations based on them.\n",
    "\n",
    "## The Dataset\n",
    "The dataset consists of student grades broken down by assignments, quizzes, and exams from years 2014 to 2017. It comes with the following tables:\n",
    "* students\n",
    "* assignments\n",
    "* quizzes\n",
    "* exams\n",
    "* weights\n",
    "\n",
    "We begin by reading in our raw data"
   ]
  },
  {
   "cell_type": "code",
   "execution_count": 1,
   "id": "7fd58d22-8549-4efe-b1d9-5457dd9660c1",
   "metadata": {},
   "outputs": [],
   "source": [
    "# Import library(ies)\n",
    "import pandas as pd\n",
    "\n",
    "# Read raw data\n",
    "readData = lambda src: pd.read_csv(\"student-data-generator/data/\" + src + \".csv\")\n",
    "assignmentData = readData(\"assignments\")\n",
    "examData = readData(\"exams\")\n",
    "quizData = readData(\"quizzes\")\n",
    "studentData = readData(\"students\")\n",
    "weightData = readData(\"weights\")"
   ]
  },
  {
   "cell_type": "markdown",
   "id": "81e28f87-c9e5-4cd7-82aa-ae45bb9bc04c",
   "metadata": {},
   "source": [
    "## Initial Processing\n",
    "Unfortunately, not all assignments, quizzes, and scores have scores. We forgive unavailable data by calculating averages based on the ones that do have scores. Unavailable scores are assigned a value of `-1`, and the rest are ranged from `0` to `100`. We calculate the average for each student and place them on a new column."
   ]
  },
  {
   "cell_type": "code",
   "execution_count": 2,
   "id": "2be316a6-58ab-43a6-9f62-ba45bad30367",
   "metadata": {},
   "outputs": [],
   "source": [
    "# Append column with student averages,\n",
    "# counting available scores\n",
    "\n",
    "# Utility function for calculate average\n",
    "def calcAvg(scores):\n",
    "    n = 0\n",
    "    tot = 0\n",
    "    for score in scores:\n",
    "        # Make sure that score is valid\n",
    "        if isinstance(score, (float, int)) and score >= 0 and score <= 100:\n",
    "            n += 1\n",
    "            tot += score\n",
    "    \n",
    "    # If no assignment got turned in, return -1\n",
    "    return tot / n if n else -1\n",
    "\n",
    "assignmentData[\"Assignment Avg\"] = assignmentData.apply(calcAvg, axis=1)\n",
    "examData[\"Exam Avg\"] = examData.apply(calcAvg, axis=1)\n",
    "quizData[\"Quiz Avg\"] = quizData.apply(calcAvg, axis=1)"
   ]
  },
  {
   "cell_type": "markdown",
   "id": "d2a11b47-1e61-4ac3-99bd-1b4550ac734b",
   "metadata": {},
   "source": [
    "Now, we can find the percentages for each student."
   ]
  },
  {
   "cell_type": "code",
   "execution_count": 3,
   "id": "a6c31bce-9cf7-43e5-93ba-a4e8915d2cda",
   "metadata": {},
   "outputs": [
    {
     "data": {
      "text/html": [
       "<div>\n",
       "<style scoped>\n",
       "    .dataframe tbody tr th:only-of-type {\n",
       "        vertical-align: middle;\n",
       "    }\n",
       "\n",
       "    .dataframe tbody tr th {\n",
       "        vertical-align: top;\n",
       "    }\n",
       "\n",
       "    .dataframe thead th {\n",
       "        text-align: right;\n",
       "    }\n",
       "</style>\n",
       "<table border=\"1\" class=\"dataframe\">\n",
       "  <thead>\n",
       "    <tr style=\"text-align: right;\">\n",
       "      <th></th>\n",
       "      <th>Student ID</th>\n",
       "      <th>Name</th>\n",
       "      <th>Year</th>\n",
       "      <th>Assignment Avg</th>\n",
       "      <th>Quiz Avg</th>\n",
       "      <th>Exam Avg</th>\n",
       "      <th>Percentage</th>\n",
       "    </tr>\n",
       "  </thead>\n",
       "  <tbody>\n",
       "    <tr>\n",
       "      <th>0</th>\n",
       "      <td>101374</td>\n",
       "      <td>Apple Almond</td>\n",
       "      <td>2016</td>\n",
       "      <td>78.400000</td>\n",
       "      <td>26.8</td>\n",
       "      <td>84.75</td>\n",
       "      <td>75.422500</td>\n",
       "    </tr>\n",
       "    <tr>\n",
       "      <th>1</th>\n",
       "      <td>101473</td>\n",
       "      <td>Apple Cashew</td>\n",
       "      <td>2016</td>\n",
       "      <td>93.888889</td>\n",
       "      <td>93.6</td>\n",
       "      <td>79.75</td>\n",
       "      <td>83.241389</td>\n",
       "    </tr>\n",
       "    <tr>\n",
       "      <th>2</th>\n",
       "      <td>102794</td>\n",
       "      <td>Apple Peanut</td>\n",
       "      <td>2017</td>\n",
       "      <td>37.200000</td>\n",
       "      <td>76.2</td>\n",
       "      <td>26.25</td>\n",
       "      <td>34.837500</td>\n",
       "    </tr>\n",
       "    <tr>\n",
       "      <th>3</th>\n",
       "      <td>103387</td>\n",
       "      <td>Apple Hazelnut</td>\n",
       "      <td>2016</td>\n",
       "      <td>78.777778</td>\n",
       "      <td>76.0</td>\n",
       "      <td>85.75</td>\n",
       "      <td>83.590278</td>\n",
       "    </tr>\n",
       "  </tbody>\n",
       "</table>\n",
       "</div>"
      ],
      "text/plain": [
       "   Student ID            Name  Year  Assignment Avg  Quiz Avg  Exam Avg  \\\n",
       "0      101374    Apple Almond  2016       78.400000      26.8     84.75   \n",
       "1      101473    Apple Cashew  2016       93.888889      93.6     79.75   \n",
       "2      102794    Apple Peanut  2017       37.200000      76.2     26.25   \n",
       "3      103387  Apple Hazelnut  2016       78.777778      76.0     85.75   \n",
       "\n",
       "   Percentage  \n",
       "0   75.422500  \n",
       "1   83.241389  \n",
       "2   34.837500  \n",
       "3   83.590278  "
      ]
     },
     "execution_count": 3,
     "metadata": {},
     "output_type": "execute_result"
    }
   ],
   "source": [
    "# Extract averages\n",
    "assignmentAverages = assignmentData[[\"Student ID\", \"Assignment Avg\"]]\n",
    "examAverages = examData[[\"Student ID\", \"Exam Avg\"]]\n",
    "quizAverages = quizData[[\"Student ID\", \"Quiz Avg\"]]\n",
    "\n",
    "# Merge averages with student data\n",
    "merge = lambda studentTable, otherTable: pd.merge(studentTable, otherTable, on=\"Student ID\")\n",
    "studentAverages = merge(studentData, assignmentAverages)\n",
    "studentAverages = merge(studentAverages, quizAverages)\n",
    "studentAverages = merge(studentAverages, examAverages)\n",
    "\n",
    "# Calculate grade percentage for each student\n",
    "weightMap = {}\n",
    "for _, row in weightData.iterrows():\n",
    "    weightMap[row[\"Category\"]] = row[\"Weight\"]\n",
    "\n",
    "def calcPercentage(row):\n",
    "    assignmentWeight = weightMap[\"Assignments\"] * row[\"Assignment Avg\"] / 100\n",
    "    examWeight = weightMap[\"Exams\"] * row[\"Exam Avg\"] / 100\n",
    "    quizWeight = weightMap[\"Quizzes\"] * row[\"Quiz Avg\"] / 100\n",
    "    return assignmentWeight + examWeight + quizWeight\n",
    "\n",
    "studentAverages[\"Percentage\"] = studentAverages.apply(calcPercentage, axis=1)\n",
    "\n",
    "studentAverages.head()"
   ]
  },
  {
   "cell_type": "markdown",
   "id": "68ae1b6e-517e-40ed-bf4b-097d5eee262e",
   "metadata": {},
   "source": [
    "## Trending Average\n",
    "\n",
    "After getting percentages for each student, we collect the average from each year and plot them."
   ]
  },
  {
   "cell_type": "code",
   "execution_count": 10,
   "id": "c1ab4ed5-05e1-40db-8f1f-e22194c2efbe",
   "metadata": {},
   "outputs": [
    {
     "data": {
      "image/png": "[encoded data removed]",
      "text/plain": [
       "<Figure size 432x288 with 1 Axes>"
      ]
     },
     "metadata": {
      "needs_background": "light"
     },
     "output_type": "display_data"
    }
   ],
   "source": [
    "# Group by Year and then average the averages\n",
    "yearlyAvg = studentAverages.groupby(\"Year\")[\"Percentage\"].mean()\n",
    "yearlyPlot = yearlyAvg.plot.line()\n",
    "yearlyPlot.locator_params(integer=True)"
   ]
  },
  {
   "cell_type": "code",
   "execution_count": null,
   "id": "5e380d12-17cf-4c78-811b-b539cdf42835",
   "metadata": {},
   "outputs": [],
   "source": []
  }
 ],
 "metadata": {
  "kernelspec": {
   "display_name": "Python 3 (ipykernel)",
   "language": "python",
   "name": "python3"
  },
  "language_info": {
   "codemirror_mode": {
    "name": "ipython",
    "version": 3
   },
   "file_extension": ".py",
   "mimetype": "text/x-python",
   "name": "python",
   "nbconvert_exporter": "python",
   "pygments_lexer": "ipython3",
   "version": "3.10.4"
  }
 },
 "nbformat": 4,
 "nbformat_minor": 5
}
